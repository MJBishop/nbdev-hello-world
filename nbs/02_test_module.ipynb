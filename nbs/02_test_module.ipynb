{
 "cells": [
  {
   "cell_type": "code",
   "execution_count": null,
   "id": "ca6e23a9",
   "metadata": {},
   "outputs": [],
   "source": [
    "#| default_exp tests/test_module"
   ]
  },
  {
   "cell_type": "code",
   "execution_count": null,
   "id": "1c8e2beb",
   "metadata": {},
   "outputs": [],
   "source": [
    "#| export \n",
    "#| hide \n",
    "from nbdev_hello_world.module import *"
   ]
  },
  {
   "cell_type": "code",
   "execution_count": null,
   "id": "08eac001",
   "metadata": {},
   "outputs": [],
   "source": [
    "#| hide \n",
    "import nbdev; nbdev.nbdev_export()"
   ]
  }
 ],
 "metadata": {},
 "nbformat": 4,
 "nbformat_minor": 5
}
