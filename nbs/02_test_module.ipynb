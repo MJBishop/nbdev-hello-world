{
 "cells": [
  {
   "cell_type": "code",
   "execution_count": null,
   "id": "ecd081ca",
   "metadata": {},
   "outputs": [],
   "source": [
    "#| default_exp tests/test_module"
   ]
  },
  {
   "cell_type": "code",
   "execution_count": null,
   "id": "fbfc992a",
   "metadata": {},
   "outputs": [],
   "source": [
    "#| export \n",
    "from nbdev_hello_world.module import *"
   ]
  },
  {
   "cell_type": "code",
   "execution_count": null,
   "id": "7fb6f641",
   "metadata": {},
   "outputs": [],
   "source": [
    "#| hide \n",
    "import nbdev; nbdev.nbdev_export()"
   ]
  }
 ],
 "metadata": {},
 "nbformat": 4,
 "nbformat_minor": 5
}
