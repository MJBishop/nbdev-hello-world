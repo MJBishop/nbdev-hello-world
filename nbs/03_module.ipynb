{
 "cells": [
  {
   "cell_type": "code",
   "execution_count": null,
   "id": "6130d589",
   "metadata": {},
   "outputs": [],
   "source": [
    "#| default_exp module"
   ]
  },
  {
   "cell_type": "code",
   "execution_count": null,
   "id": "c870c72a",
   "metadata": {},
   "outputs": [],
   "source": [
    "#| export \n",
    "def foo(): pass"
   ]
  },
  {
   "cell_type": "code",
   "execution_count": null,
   "id": "8eab81b4",
   "metadata": {},
   "outputs": [],
   "source": [
    "#| export tests/test_module\n",
    "\n",
    "import unittest\n",
    "\n",
    "class TestModule(unittest.TestCase):\n",
    "   def test_foo(self): pass\n"
   ]
  },
  {
   "cell_type": "code",
   "execution_count": null,
   "id": "5faec754",
   "metadata": {},
   "outputs": [],
   "source": [
    "#| eval: false\n",
    "#| hide\n",
    "unittest.main(argv=[''], verbosity=2, exit=False)\n"
   ]
  },
  {
   "cell_type": "code",
   "execution_count": null,
   "id": "6c71c378",
   "metadata": {},
   "outputs": [],
   "source": [
    "#| hide \n",
    "import nbdev; nbdev.nbdev_export()"
   ]
  }
 ],
 "metadata": {},
 "nbformat": 4,
 "nbformat_minor": 5
}
