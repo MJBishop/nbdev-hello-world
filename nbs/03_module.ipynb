{
 "cells": [
  {
   "cell_type": "code",
   "execution_count": null,
   "id": "e400818a",
   "metadata": {},
   "outputs": [],
   "source": [
    "#| default_exp module"
   ]
  },
  {
   "cell_type": "code",
   "execution_count": null,
   "id": "8e508480",
   "metadata": {},
   "outputs": [],
   "source": [
    "#| export \n",
    "def foo(): pass"
   ]
  },
  {
   "cell_type": "code",
   "execution_count": null,
   "id": "0f7f8a4f",
   "metadata": {},
   "outputs": [],
   "source": [
    "#| export tests/test_module\n",
    "\n",
    "import unittest\n",
    "\n",
    "class TestModule(unittest.TestCase):\n",
    "   def test_foo(self): pass\n"
   ]
  },
  {
   "cell_type": "code",
   "execution_count": null,
   "id": "3b98c7ab",
   "metadata": {},
   "outputs": [],
   "source": [
    "#| eval: false\n",
    "#| hide\n",
    "unittest.main(argv=[''], verbosity=2, exit=False)\n"
   ]
  },
  {
   "cell_type": "code",
   "execution_count": null,
   "id": "78e958c7",
   "metadata": {},
   "outputs": [],
   "source": [
    "#| hide \n",
    "import nbdev; nbdev.nbdev_export()"
   ]
  }
 ],
 "metadata": {},
 "nbformat": 4,
 "nbformat_minor": 5
}
