{
 "cells": [
  {
   "cell_type": "code",
   "execution_count": null,
   "id": "a5387699",
   "metadata": {},
   "outputs": [],
   "source": [
    "#| default_exp module"
   ]
  },
  {
   "cell_type": "code",
   "execution_count": null,
   "id": "65aa564b",
   "metadata": {},
   "outputs": [],
   "source": [
    "#| export \n",
    "def foo(): pass"
   ]
  },
  {
   "cell_type": "code",
   "execution_count": null,
   "id": "e3b51d3b",
   "metadata": {},
   "outputs": [],
   "source": [
    "#| export tests/test_module\n",
    "\n",
    "import unittest\n",
    "\n",
    "class TestModule(unittest.TestCase):\n",
    "   def test_foo(self): pass\n"
   ]
  },
  {
   "cell_type": "code",
   "execution_count": null,
   "id": "3c05730a",
   "metadata": {},
   "outputs": [],
   "source": [
    "#| eval: false\n",
    "#| hide\n",
    "unittest.main(argv=[''], verbosity=2, exit=False)\n"
   ]
  },
  {
   "cell_type": "code",
   "execution_count": null,
   "id": "c76e2b08",
   "metadata": {},
   "outputs": [],
   "source": [
    "#| hide \n",
    "import nbdev; nbdev.nbdev_export()"
   ]
  }
 ],
 "metadata": {},
 "nbformat": 4,
 "nbformat_minor": 5
}
