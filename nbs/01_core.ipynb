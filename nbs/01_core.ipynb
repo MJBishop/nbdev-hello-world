{
 "cells": [
  {
   "cell_type": "markdown",
   "metadata": {},
   "source": [
    "# core\n",
    "\n",
    "> Fill in a module description here"
   ]
  },
  {
   "cell_type": "code",
   "execution_count": null,
   "metadata": {},
   "outputs": [],
   "source": [
    "#| default_exp core"
   ]
  },
  {
   "cell_type": "code",
   "execution_count": null,
   "metadata": {},
   "outputs": [],
   "source": [
    "#| export\n",
    "#| hide\n",
    "import nbformat\n",
    "from nbformat.v4 import new_notebook, new_markdown_cell, new_code_cell\n"
   ]
  },
  {
   "cell_type": "code",
   "execution_count": null,
   "metadata": {},
   "outputs": [],
   "source": [
    "#| export\n",
    "\n",
    "from configparser import ConfigParser \n",
    "\n",
    "def repo_string():\n",
    "    configure = ConfigParser() \n",
    "    configure.read('settings.ini') \n",
    "    lib_path = configure.get('DEFAULT','lib_path')\n",
    "    return lib_path"
   ]
  },
  {
   "cell_type": "code",
   "execution_count": null,
   "metadata": {},
   "outputs": [],
   "source": [
    "#| export\n",
    "\n",
    "def filename_for_test_module(module_name, index_str):\n",
    "    return f\"{index_str}_test_{module_name}.ipynb\""
   ]
  },
  {
   "cell_type": "code",
   "execution_count": null,
   "metadata": {},
   "outputs": [],
   "source": [
    "#| export\n",
    "\n",
    "def test_module(module_name):\n",
    "    return f'tests/test_{module_name}'"
   ]
  },
  {
   "cell_type": "code",
   "execution_count": null,
   "metadata": {},
   "outputs": [],
   "source": [
    "#| export\n",
    "\n",
    "def default_exp_string_for_test_module(module_name):\n",
    "    return f'#| default_exp {test_module(module_name)}'"
   ]
  },
  {
   "cell_type": "code",
   "execution_count": null,
   "metadata": {},
   "outputs": [],
   "source": [
    "#| export\n",
    "\n",
    "def import_module_string_for_test_module(repo_name, module_name):\n",
    "    return f'from {repo_name}.{module_name} import *'"
   ]
  },
  {
   "cell_type": "code",
   "execution_count": null,
   "metadata": {},
   "outputs": [],
   "source": [
    "#| export\n",
    "\n",
    "def export_string():\n",
    "    return \"#| hide \\nimport nbdev; nbdev.nbdev_export()\""
   ]
  },
  {
   "cell_type": "code",
   "execution_count": null,
   "metadata": {},
   "outputs": [],
   "source": [
    "#| export\n",
    "\n",
    "def format_test_module(module_name, index_str):\n",
    "    fname = filename_for_test_module(module_name, index_str)\n",
    "    repo_name = repo_string()\n",
    "\n",
    "    # create a new empty notebook\n",
    "    nb = new_notebook()  \n",
    "\n",
    "    # add a code cells\n",
    "    cell1 = new_code_cell(default_exp_string_for_test_module(module_name))\n",
    "    nb['cells'].append(cell1)\n",
    "\n",
    "    cell2_string = f\"#| export \\n{import_module_string_for_test_module(repo_name, module_name)}\"\n",
    "    cell2 = new_code_cell(cell2_string)\n",
    "    nb['cells'].append(cell2)\n",
    "\n",
    "    cell3 = new_code_cell(export_string())\n",
    "    nb['cells'].append(cell3)\n",
    "\n",
    "    # save the notebook to a file\n",
    "\n",
    "    with open(fname, 'w') as f:\n",
    "        nbformat.write(nb, f)"
   ]
  },
  {
   "cell_type": "markdown",
   "metadata": {},
   "source": [
    " Module"
   ]
  },
  {
   "cell_type": "code",
   "execution_count": null,
   "metadata": {},
   "outputs": [],
   "source": [
    "#| export\n",
    "\n",
    "def filename_for_module(module_name, index_str):\n",
    "    return f\"{index_str}_{module_name}.ipynb\""
   ]
  },
  {
   "cell_type": "code",
   "execution_count": null,
   "metadata": {},
   "outputs": [],
   "source": [
    "#| export\n",
    "\n",
    "def default_exp_string_for_module(module_name):\n",
    "    return f'#| default_exp {module_name}'"
   ]
  },
  {
   "cell_type": "code",
   "execution_count": null,
   "metadata": {},
   "outputs": [],
   "source": [
    "#| export\n",
    "\n",
    "def default_test_class_string_for_module(module_name):\n",
    "    return f'Test{module_name.title()}'"
   ]
  },
  {
   "cell_type": "code",
   "execution_count": null,
   "metadata": {},
   "outputs": [],
   "source": [
    "#| export\n",
    "\n",
    "def format_module(module_name, index_str):\n",
    "    fname = filename_for_module(module_name, index_str)\n",
    "\n",
    "    # create a new empty notebook\n",
    "    nb = new_notebook()  \n",
    "\n",
    "    # add markdown\n",
    "\n",
    "    # add a code cells\n",
    "    cell1 = new_code_cell(default_exp_string_for_module(module_name))\n",
    "    nb['cells'].append(cell1)\n",
    "\n",
    "    cell2_string = \"#| export \\ndef foo(): pass\"\n",
    "    cell2 = new_code_cell(cell2_string)\n",
    "    nb['cells'].append(cell2)\n",
    "\n",
    "    cell3_string = (f\"#| export {test_module(module_name)}\\n\"\n",
    "                    \"\\n\"\n",
    "                    \"import unittest\\n\"\n",
    "                    \"\\n\"\n",
    "                    f\"class {default_test_class_string_for_module(module_name)}(unittest.TestCase):\\n\"\n",
    "                    f\"   def test_foo(self): pass\\n\")\n",
    "\n",
    "    cell3 = new_code_cell(cell3_string)\n",
    "    nb['cells'].append(cell3)\n",
    "\n",
    "    cell4_string = (\"#| eval: false\\n\"\n",
    "        \"#| hide\\n\"\n",
    "        \"unittest.main(argv=[''], verbosity=2, exit=False)\\n\")\n",
    "    cell4 = new_code_cell(cell4_string)\n",
    "    nb['cells'].append(cell4)\n",
    "\n",
    "    \n",
    "    cell5 = new_code_cell(export_string())\n",
    "    nb['cells'].append(cell5)\n",
    "\n",
    "    # save the notebook to a file\n",
    "\n",
    "    with open(fname, 'w') as f:\n",
    "        nbformat.write(nb, f)"
   ]
  },
  {
   "cell_type": "code",
   "execution_count": null,
   "metadata": {},
   "outputs": [],
   "source": [
    "#| export tests/test_core\n",
    "\n",
    "import unittest"
   ]
  },
  {
   "cell_type": "code",
   "execution_count": null,
   "metadata": {},
   "outputs": [],
   "source": [
    "#| export tests/test_core\n",
    "\n",
    "class TestCore(unittest.TestCase):\n",
    "    \n",
    "    def test_repo_string(self):\n",
    "        self.assertEqual(repo_string(), 'nbdev_hello_world')\n",
    "\n",
    "    # module\n",
    "    def test_filename(self):\n",
    "        self.assertEqual(filename_for_module('module', '05'), '05_module.ipynb')\n",
    "\n",
    "    def test_default_exp_string_for_module(self):\n",
    "        self.assertEqual(default_exp_string_for_module('module'), \"#| default_exp module\")\n",
    "\n",
    "    def test_default_test_class_string_for_module(self):\n",
    "        self.assertEqual(default_test_class_string_for_module('module'), \"TestModule\")\n",
    "\n",
    "    def test_format_module(self):\n",
    "        fname = f\"03_module.ipynb\"\n",
    "\n",
    "        format_module(\"module\", \"03\")\n",
    "        with self.assertRaises(Exception):\n",
    "            with open(fname, 'r') as f:\n",
    "                pass\n",
    "    \n",
    "\n",
    "    # test module\n",
    "    def test_filename_for_test_module(self):\n",
    "        self.assertEqual(filename_for_test_module('module', '04'), '04_test_module.ipynb')\n",
    "\n",
    "    def test_default_exp_string_for_test_module(self):\n",
    "        self.assertEqual(default_exp_string_for_test_module('module'), '#| default_exp tests/test_module')\n",
    "\n",
    "    def test_import_module_string(self):\n",
    "        self.assertEqual(import_module_string_for_test_module('repo', 'module'), 'from repo.module import *')\n",
    "        # self.assertEqual(default_exp_string('module'), '#| default_exp tests/test_module')\n",
    "\n",
    "    def test_format_test_module(self):\n",
    "        fname = f\"02_test_module.ipynb\"\n",
    "\n",
    "        format_test_module(\"module\", \"02\")\n",
    "        with self.assertRaises(Exception):\n",
    "            with open(fname, 'r') as f:\n",
    "                pass\n",
    "\n",
    "  "
   ]
  },
  {
   "cell_type": "code",
   "execution_count": null,
   "metadata": {},
   "outputs": [
    {
     "name": "stderr",
     "output_type": "stream",
     "text": [
      "test_default_exp_string_for_module (__main__.TestCore.test_default_exp_string_for_module) ... ok\n",
      "test_default_exp_string_for_test_module (__main__.TestCore.test_default_exp_string_for_test_module) ... ok\n",
      "test_default_test_class_string_for_module (__main__.TestCore.test_default_test_class_string_for_module) ... ok\n",
      "test_filename (__main__.TestCore.test_filename) ... ok\n",
      "test_filename_for_test_module (__main__.TestCore.test_filename_for_test_module) ... ok\n",
      "test_format_module (__main__.TestCore.test_format_module) ... FAIL\n",
      "test_format_test_module (__main__.TestCore.test_format_test_module) ... ERROR\n",
      "test_import_module_string (__main__.TestCore.test_import_module_string) ... ok\n",
      "test_repo_string (__main__.TestCore.test_repo_string) ... ERROR\n",
      "\n",
      "======================================================================\n",
      "ERROR: test_format_test_module (__main__.TestCore.test_format_test_module)\n",
      "----------------------------------------------------------------------\n",
      "Traceback (most recent call last):\n",
      "  File \"/Users/drinkslist/opt/anaconda3/envs/nbdev/lib/python3.12/configparser.py\", line 767, in get\n",
      "    value = d[option]\n",
      "            ~^^^^^^^^\n",
      "  File \"/Users/drinkslist/opt/anaconda3/envs/nbdev/lib/python3.12/collections/__init__.py\", line 1015, in __getitem__\n",
      "    return self.__missing__(key)            # support subclasses that define __missing__\n",
      "           ^^^^^^^^^^^^^^^^^^^^^\n",
      "  File \"/Users/drinkslist/opt/anaconda3/envs/nbdev/lib/python3.12/collections/__init__.py\", line 1007, in __missing__\n",
      "    raise KeyError(key)\n",
      "KeyError: 'lib_path'\n",
      "\n",
      "During handling of the above exception, another exception occurred:\n",
      "\n",
      "Traceback (most recent call last):\n",
      "  File \"/var/folders/7c/1sh_q_qx3qqczm2tl893tr0r0000gn/T/ipykernel_22557/1542614000.py\", line 41, in test_format_test_module\n",
      "    format_test_module(\"module\", \"02\")\n",
      "  File \"/var/folders/7c/1sh_q_qx3qqczm2tl893tr0r0000gn/T/ipykernel_22557/61402260.py\", line 5, in format_test_module\n",
      "    repo_name = repo_string()\n",
      "                ^^^^^^^^^^^^^\n",
      "  File \"/var/folders/7c/1sh_q_qx3qqczm2tl893tr0r0000gn/T/ipykernel_22557/3478140666.py\", line 8, in repo_string\n",
      "    lib_path = configure.get('DEFAULT','lib_path')\n",
      "               ^^^^^^^^^^^^^^^^^^^^^^^^^^^^^^^^^^^\n",
      "  File \"/Users/drinkslist/opt/anaconda3/envs/nbdev/lib/python3.12/configparser.py\", line 770, in get\n",
      "    raise NoOptionError(option, section)\n",
      "configparser.NoOptionError: No option 'lib_path' in section: 'DEFAULT'\n",
      "\n",
      "======================================================================\n",
      "ERROR: test_repo_string (__main__.TestCore.test_repo_string)\n",
      "----------------------------------------------------------------------\n",
      "Traceback (most recent call last):\n",
      "  File \"/Users/drinkslist/opt/anaconda3/envs/nbdev/lib/python3.12/configparser.py\", line 767, in get\n",
      "    value = d[option]\n",
      "            ~^^^^^^^^\n",
      "  File \"/Users/drinkslist/opt/anaconda3/envs/nbdev/lib/python3.12/collections/__init__.py\", line 1015, in __getitem__\n",
      "    return self.__missing__(key)            # support subclasses that define __missing__\n",
      "           ^^^^^^^^^^^^^^^^^^^^^\n",
      "  File \"/Users/drinkslist/opt/anaconda3/envs/nbdev/lib/python3.12/collections/__init__.py\", line 1007, in __missing__\n",
      "    raise KeyError(key)\n",
      "KeyError: 'lib_path'\n",
      "\n",
      "During handling of the above exception, another exception occurred:\n",
      "\n",
      "Traceback (most recent call last):\n",
      "  File \"/var/folders/7c/1sh_q_qx3qqczm2tl893tr0r0000gn/T/ipykernel_22557/1542614000.py\", line 6, in test_repo_string\n",
      "    self.assertEqual(repo_string(), 'nbdev_hello_world')\n",
      "                     ^^^^^^^^^^^^^\n",
      "  File \"/var/folders/7c/1sh_q_qx3qqczm2tl893tr0r0000gn/T/ipykernel_22557/3478140666.py\", line 8, in repo_string\n",
      "    lib_path = configure.get('DEFAULT','lib_path')\n",
      "               ^^^^^^^^^^^^^^^^^^^^^^^^^^^^^^^^^^^\n",
      "  File \"/Users/drinkslist/opt/anaconda3/envs/nbdev/lib/python3.12/configparser.py\", line 770, in get\n",
      "    raise NoOptionError(option, section)\n",
      "configparser.NoOptionError: No option 'lib_path' in section: 'DEFAULT'\n",
      "\n",
      "======================================================================\n",
      "FAIL: test_format_module (__main__.TestCore.test_format_module)\n",
      "----------------------------------------------------------------------\n",
      "Traceback (most recent call last):\n",
      "  File \"/var/folders/7c/1sh_q_qx3qqczm2tl893tr0r0000gn/T/ipykernel_22557/1542614000.py\", line 22, in test_format_module\n",
      "    with self.assertRaises(Exception):\n",
      "AssertionError: Exception not raised\n",
      "\n",
      "----------------------------------------------------------------------\n",
      "Ran 9 tests in 0.156s\n",
      "\n",
      "FAILED (failures=1, errors=2)\n"
     ]
    },
    {
     "data": {
      "text/plain": [
       "<unittest.main.TestProgram>"
      ]
     },
     "execution_count": null,
     "metadata": {},
     "output_type": "execute_result"
    }
   ],
   "source": [
    "#| eval: false\n",
    "#| hide\n",
    "unittest.main(argv=[''], verbosity=2, exit=False)"
   ]
  },
  {
   "cell_type": "code",
   "execution_count": null,
   "metadata": {},
   "outputs": [],
   "source": [
    "#| hide\n",
    "import nbdev; nbdev.nbdev_export()"
   ]
  }
 ],
 "metadata": {
  "kernelspec": {
   "display_name": "python3",
   "language": "python",
   "name": "python3"
  }
 },
 "nbformat": 4,
 "nbformat_minor": 4
}
